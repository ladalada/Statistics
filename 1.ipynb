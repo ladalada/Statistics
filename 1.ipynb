{
 "cells": [
  {
   "cell_type": "markdown",
   "metadata": {},
   "source": [
    "### САМОСТОЯТЕЛЬНАЯ РАБОТА №1 (одномерный случай)\n",
    "### ВЫБОРОЧНЫЕ ХАРАКТЕРИСТИКИ"
   ]
  },
  {
   "cell_type": "code",
   "execution_count": 46,
   "metadata": {},
   "outputs": [],
   "source": [
    "import numpy as np\n",
    "import statistics\n",
    "import matplotlib.pyplot as plt\n",
    "import math\n",
    "from numpy import random"
   ]
  },
  {
   "cell_type": "markdown",
   "metadata": {},
   "source": [
    "## №1."
   ]
  },
  {
   "cell_type": "code",
   "execution_count": 47,
   "metadata": {},
   "outputs": [],
   "source": [
    "a = 4\n",
    "b = 11"
   ]
  },
  {
   "cell_type": "markdown",
   "metadata": {},
   "source": [
    "## №2."
   ]
  },
  {
   "cell_type": "code",
   "execution_count": 50,
   "metadata": {},
   "outputs": [],
   "source": [
    "sizeSampleOne = 40\n",
    "sizeSampleTwo = 20"
   ]
  },
  {
   "cell_type": "code",
   "execution_count": 51,
   "metadata": {},
   "outputs": [
    {
     "data": {
      "text/plain": [
       "array([ -4.75334305,  -0.075618  ,  -0.6044138 ,   1.26346789,\n",
       "        23.51547394,  14.2859139 ,   7.56129724,  12.77648921,\n",
       "         1.74935341,  12.1616568 ,  12.72504349,  -8.52750503,\n",
       "        -7.56227655,   3.41547009,  -5.63029064,  -4.98298416,\n",
       "        -2.43557864,  19.57413694,  20.7944518 , -13.16516709,\n",
       "        11.71505653,   7.39183319,   1.78657367,  -3.92594526,\n",
       "        13.48189555,  -0.54914982,   6.50872274,  -1.11745545,\n",
       "         9.52496533,  19.62905447,   2.6145274 , -17.12917447,\n",
       "         0.2165511 ,   8.63045514,  19.56855793,  29.16317387,\n",
       "        15.74402437,   7.6642325 ,  11.73576581,  -2.76629426])"
      ]
     },
     "execution_count": 51,
     "metadata": {},
     "output_type": "execute_result"
    }
   ],
   "source": [
    "sampleOne = random.normal(a, b, size = sizeSampleOne)\n",
    "#  sampleOne = random.choice(generalOne, size = sizeSampleOne, replace=False, p=None)\n",
    "sampleOne"
   ]
  },
  {
   "cell_type": "code",
   "execution_count": 52,
   "metadata": {},
   "outputs": [
    {
     "data": {
      "text/plain": [
       "array([ 9.04047606, 10.97300795, 13.29075312, 11.62943994, 11.24710076,\n",
       "        8.79090209, 20.02256134, 10.04278765, 15.6505199 ,  4.87261906,\n",
       "       11.20103108,  8.70977018, 12.12116417, 11.3841796 , 10.3447743 ,\n",
       "       10.56740816, 15.25129911,  8.36297839,  9.55312938, 13.84405838])"
      ]
     },
     "execution_count": 52,
     "metadata": {},
     "output_type": "execute_result"
    }
   ],
   "source": [
    "sampleTwo = random.normal(b, a, size = sizeSampleTwo)\n",
    "# sampleTwo = random.choice(generalTwo, size = sizeSampleTwo, replace=False, p=None)\n",
    "sampleTwo"
   ]
  },
  {
   "cell_type": "code",
   "execution_count": 53,
   "metadata": {},
   "outputs": [
    {
     "data": {
      "text/plain": [
       "array([ -4.75334305,  -0.075618  ,  -0.6044138 ,   1.26346789,\n",
       "        23.51547394,  14.2859139 ,   7.56129724,  12.77648921,\n",
       "         1.74935341,  12.1616568 ,  12.72504349,  -8.52750503,\n",
       "        -7.56227655,   3.41547009,  -5.63029064,  -4.98298416,\n",
       "        -2.43557864,  19.57413694,  20.7944518 , -13.16516709,\n",
       "        11.71505653,   7.39183319,   1.78657367,  -3.92594526,\n",
       "        13.48189555,  -0.54914982,   6.50872274,  -1.11745545,\n",
       "         9.52496533,  19.62905447,   2.6145274 , -17.12917447,\n",
       "         0.2165511 ,   8.63045514,  19.56855793,  29.16317387,\n",
       "        15.74402437,   7.6642325 ,  11.73576581,  -2.76629426,\n",
       "         9.04047606,  10.97300795,  13.29075312,  11.62943994,\n",
       "        11.24710076,   8.79090209,  20.02256134,  10.04278765,\n",
       "        15.6505199 ,   4.87261906,  11.20103108,   8.70977018,\n",
       "        12.12116417,  11.3841796 ,  10.3447743 ,  10.56740816,\n",
       "        15.25129911,   8.36297839,   9.55312938,  13.84405838])"
      ]
     },
     "execution_count": 53,
     "metadata": {},
     "output_type": "execute_result"
    }
   ],
   "source": [
    "sample = np.hstack((sampleOne, sampleTwo))\n",
    "sample"
   ]
  },
  {
   "cell_type": "code",
   "execution_count": 54,
   "metadata": {},
   "outputs": [
    {
     "data": {
      "text/plain": [
       "array([-17.12917447, -13.16516709,  -8.52750503,  -7.56227655,\n",
       "        -5.63029064,  -4.98298416,  -4.75334305,  -3.92594526,\n",
       "        -2.76629426,  -2.43557864,  -1.11745545,  -0.6044138 ,\n",
       "        -0.54914982,  -0.075618  ,   0.2165511 ,   1.26346789,\n",
       "         1.74935341,   1.78657367,   2.6145274 ,   3.41547009,\n",
       "         4.87261906,   6.50872274,   7.39183319,   7.56129724,\n",
       "         7.6642325 ,   8.36297839,   8.63045514,   8.70977018,\n",
       "         8.79090209,   9.04047606,   9.52496533,   9.55312938,\n",
       "        10.04278765,  10.3447743 ,  10.56740816,  10.97300795,\n",
       "        11.20103108,  11.24710076,  11.3841796 ,  11.62943994,\n",
       "        11.71505653,  11.73576581,  12.12116417,  12.1616568 ,\n",
       "        12.72504349,  12.77648921,  13.29075312,  13.48189555,\n",
       "        13.84405838,  14.2859139 ,  15.25129911,  15.6505199 ,\n",
       "        15.74402437,  19.56855793,  19.57413694,  19.62905447,\n",
       "        20.02256134,  20.7944518 ,  23.51547394,  29.16317387])"
      ]
     },
     "execution_count": 54,
     "metadata": {},
     "output_type": "execute_result"
    }
   ],
   "source": [
    "sample.sort()\n",
    "sample"
   ]
  },
  {
   "cell_type": "markdown",
   "metadata": {},
   "source": [
    "## №3."
   ]
  },
  {
   "cell_type": "code",
   "execution_count": 55,
   "metadata": {},
   "outputs": [
    {
     "data": {
      "text/plain": [
       "29.163173870426895"
      ]
     },
     "execution_count": 55,
     "metadata": {},
     "output_type": "execute_result"
    }
   ],
   "source": [
    "MAX = max(sample)\n",
    "MAX"
   ]
  },
  {
   "cell_type": "code",
   "execution_count": 56,
   "metadata": {},
   "outputs": [
    {
     "data": {
      "text/plain": [
       "-17.12917447191377"
      ]
     },
     "execution_count": 56,
     "metadata": {},
     "output_type": "execute_result"
    }
   ],
   "source": [
    "MIN = min(sample)\n",
    "MIN"
   ]
  },
  {
   "cell_type": "code",
   "execution_count": 57,
   "metadata": {},
   "outputs": [
    {
     "data": {
      "text/plain": [
       "60"
      ]
     },
     "execution_count": 57,
     "metadata": {},
     "output_type": "execute_result"
    }
   ],
   "source": [
    "SIZE = len(sample)\n",
    "SIZE"
   ]
  },
  {
   "cell_type": "code",
   "execution_count": 58,
   "metadata": {},
   "outputs": [
    {
     "data": {
      "text/plain": [
       "7.481215144963251"
      ]
     },
     "execution_count": 58,
     "metadata": {},
     "output_type": "execute_result"
    }
   ],
   "source": [
    "SampleMean = statistics.mean(sample) # SampleMean = sum(sample)/SIZE\n",
    "SampleMean"
   ]
  },
  {
   "cell_type": "code",
   "execution_count": 59,
   "metadata": {},
   "outputs": [
    {
     "data": {
      "text/plain": [
       "9.282720694758058"
      ]
     },
     "execution_count": 59,
     "metadata": {},
     "output_type": "execute_result"
    }
   ],
   "source": [
    "Median = statistics.median(sample)\n",
    "Median"
   ]
  },
  {
   "cell_type": "code",
   "execution_count": 60,
   "metadata": {},
   "outputs": [
    {
     "data": {
      "text/plain": [
       "46.29234834234067"
      ]
     },
     "execution_count": 60,
     "metadata": {},
     "output_type": "execute_result"
    }
   ],
   "source": [
    "SampleRange = MAX - MIN\n",
    "SampleRange"
   ]
  },
  {
   "cell_type": "code",
   "execution_count": 61,
   "metadata": {},
   "outputs": [
    {
     "data": {
      "text/plain": [
       "82.92103629392477"
      ]
     },
     "execution_count": 61,
     "metadata": {},
     "output_type": "execute_result"
    }
   ],
   "source": [
    "# s = 0\n",
    "# for i in sample:\n",
    "#     s += (i - SampleMean)**2\n",
    "# s / (SIZE-1)\n",
    "\n",
    "CorrectedDispersion = np.var(sample, ddof = 1)\n",
    "CorrectedDispersion"
   ]
  },
  {
   "cell_type": "code",
   "execution_count": 62,
   "metadata": {},
   "outputs": [
    {
     "data": {
      "text/plain": [
       "81.53901902235935"
      ]
     },
     "execution_count": 62,
     "metadata": {},
     "output_type": "execute_result"
    }
   ],
   "source": [
    "# s = 0\n",
    "# for i in sample:\n",
    "#     s += (i - SampleMean)**2\n",
    "# s / SIZE\n",
    "\n",
    "Dispersion = np.var(sample, ddof = 0)\n",
    "Dispersion"
   ]
  },
  {
   "cell_type": "code",
   "execution_count": 63,
   "metadata": {},
   "outputs": [
    {
     "data": {
      "text/plain": [
       "9.106098851534876"
      ]
     },
     "execution_count": 63,
     "metadata": {},
     "output_type": "execute_result"
    }
   ],
   "source": [
    "# CorrectedDispersion**(1/2)\n",
    "\n",
    "CorrectedStandartDeviation = np.std(sample, ddof = 1)\n",
    "CorrectedStandartDeviation"
   ]
  },
  {
   "cell_type": "code",
   "execution_count": 64,
   "metadata": {},
   "outputs": [
    {
     "data": {
      "text/plain": [
       "9.029895847813492"
      ]
     },
     "execution_count": 64,
     "metadata": {},
     "output_type": "execute_result"
    }
   ],
   "source": [
    "# Dispersion**(1/2)\n",
    "\n",
    "StandartDeviation = np.std(sample, ddof = 0)\n",
    "StandartDeviation"
   ]
  },
  {
   "cell_type": "code",
   "execution_count": 65,
   "metadata": {},
   "outputs": [
    {
     "data": {
      "text/plain": [
       "7.182467533441136"
      ]
     },
     "execution_count": 65,
     "metadata": {},
     "output_type": "execute_result"
    }
   ],
   "source": [
    "m = 0\n",
    "\n",
    "for i in sample:\n",
    "    m += abs(i - SampleMean)\n",
    "    \n",
    "MeanAbsoluteDeviation = m / SIZE\n",
    "MeanAbsoluteDeviation"
   ]
  },
  {
   "cell_type": "code",
   "execution_count": 66,
   "metadata": {},
   "outputs": [
    {
     "data": {
      "text/plain": [
       "0.09541945758818571"
      ]
     },
     "execution_count": 66,
     "metadata": {},
     "output_type": "execute_result"
    }
   ],
   "source": [
    "m4 = 0\n",
    "\n",
    "for i in sample:\n",
    "    m4 += (i - SampleMean)**4\n",
    "    \n",
    "m4 /= SIZE\n",
    "\n",
    "Excess = m4 / (StandartDeviation**4) - 3\n",
    "Excess"
   ]
  },
  {
   "cell_type": "code",
   "execution_count": 67,
   "metadata": {},
   "outputs": [
    {
     "data": {
      "text/plain": [
       "-0.3739854362022214"
      ]
     },
     "execution_count": 67,
     "metadata": {},
     "output_type": "execute_result"
    }
   ],
   "source": [
    "m3 = 0\n",
    "\n",
    "for i in sample:\n",
    "    m3 += (i - SampleMean)**3\n",
    "    \n",
    "m3 /= SIZE\n",
    "\n",
    "Asymmetry = m3 / (StandartDeviation**3)\n",
    "Asymmetry"
   ]
  },
  {
   "cell_type": "markdown",
   "metadata": {},
   "source": [
    "## №4, 5."
   ]
  },
  {
   "cell_type": "code",
   "execution_count": 68,
   "metadata": {},
   "outputs": [],
   "source": [
    "def histogram(data, n_bins, x_label = \"\", y_label = \"\", title = \"\"):\n",
    "    _, ax = plt.subplots()\n",
    "    ax.hist(data, n_bins)\n",
    "    ax.set_ylabel(y_label)\n",
    "    ax.set_xlabel(x_label)\n",
    "    ax.set_title(title)"
   ]
  },
  {
   "cell_type": "code",
   "execution_count": 69,
   "metadata": {},
   "outputs": [
    {
     "data": {
      "text/plain": [
       "6"
      ]
     },
     "execution_count": 69,
     "metadata": {},
     "output_type": "execute_result"
    }
   ],
   "source": [
    "IntervalsNumber = math.floor(1 + math.log2(SIZE))\n",
    "IntervalsNumber"
   ]
  },
  {
   "cell_type": "code",
   "execution_count": 70,
   "metadata": {},
   "outputs": [
    {
     "data": {
      "text/plain": [
       "7.715391390390111"
      ]
     },
     "execution_count": 70,
     "metadata": {},
     "output_type": "execute_result"
    }
   ],
   "source": [
    "step = (MAX - MIN) / IntervalsNumber\n",
    "step"
   ]
  },
  {
   "cell_type": "code",
   "execution_count": 71,
   "metadata": {},
   "outputs": [
    {
     "data": {
      "text/plain": [
       "[-17.12917447191377,\n",
       " -9.413783081523661,\n",
       " -1.6983916911335495,\n",
       " 6.016999699256562,\n",
       " 13.732391089646672,\n",
       " 21.447782480036786,\n",
       " 29.163173870426895]"
      ]
     },
     "execution_count": 71,
     "metadata": {},
     "output_type": "execute_result"
    }
   ],
   "source": [
    "i = 0\n",
    "IntervalsPoints = []\n",
    "\n",
    "while i <= IntervalsNumber:\n",
    "    IntervalsPoints.append(MIN + i * step)\n",
    "    i += 1\n",
    "    \n",
    "IntervalsPoints"
   ]
  },
  {
   "cell_type": "code",
   "execution_count": 72,
   "metadata": {},
   "outputs": [
    {
     "data": {
      "text/plain": [
       "[2, 8, 11, 27, 10, 2, 0]"
      ]
     },
     "execution_count": 72,
     "metadata": {},
     "output_type": "execute_result"
    }
   ],
   "source": [
    "Frequency = [0] * (IntervalsNumber + 1)\n",
    "i = 0\n",
    "j = 0\n",
    "\n",
    "while i < SIZE:\n",
    "    \n",
    "    if sample[i] <= IntervalsPoints[j + 1]:\n",
    "        Frequency[j] += 1\n",
    "        i += 1\n",
    "    else:\n",
    "        j += 1\n",
    "        \n",
    "Frequency"
   ]
  },
  {
   "cell_type": "code",
   "execution_count": 73,
   "metadata": {
    "scrolled": true
   },
   "outputs": [
    {
     "data": {
      "text/plain": [
       "60"
      ]
     },
     "execution_count": 73,
     "metadata": {},
     "output_type": "execute_result"
    }
   ],
   "source": [
    "sum(Frequency)"
   ]
  },
  {
   "cell_type": "code",
   "execution_count": 74,
   "metadata": {},
   "outputs": [
    {
     "data": {
      "image/png": "[encoded data removed]",
      "text/plain": [
       "<Figure size 432x288 with 1 Axes>"
      ]
     },
     "metadata": {
      "needs_background": "light"
     },
     "output_type": "display_data"
    }
   ],
   "source": [
    "IntervalsNumber = math.floor(1 + math.log2(SIZE))\n",
    "histogram(sample, IntervalsPoints, \"Value\", \"Frequency\", \"Histogram of frequency of values distribution\")"
   ]
  },
  {
   "cell_type": "code",
   "execution_count": 75,
   "metadata": {},
   "outputs": [],
   "source": [
    "RelatiVeFrequency = [0] * (len(Frequency))"
   ]
  },
  {
   "cell_type": "markdown",
   "metadata": {},
   "source": [
    "## №6."
   ]
  },
  {
   "cell_type": "code",
   "execution_count": 76,
   "metadata": {},
   "outputs": [
    {
     "data": {
      "text/plain": [
       "[0.03333333333333333,\n",
       " 0.13333333333333333,\n",
       " 0.18333333333333332,\n",
       " 0.45,\n",
       " 0.16666666666666666,\n",
       " 0.03333333333333333,\n",
       " 0]"
      ]
     },
     "execution_count": 76,
     "metadata": {},
     "output_type": "execute_result"
    }
   ],
   "source": [
    "RelativeFrequency = Frequency\n",
    "\n",
    "for i in range(IntervalsNumber):\n",
    "    RelativeFrequency[i] /= SIZE\n",
    "    \n",
    "RelativeFrequency"
   ]
  },
  {
   "cell_type": "code",
   "execution_count": 77,
   "metadata": {},
   "outputs": [
    {
     "data": {
      "text/plain": [
       "1.0"
      ]
     },
     "execution_count": 77,
     "metadata": {},
     "output_type": "execute_result"
    }
   ],
   "source": [
    "sum(RelativeFrequency)"
   ]
  },
  {
   "cell_type": "code",
   "execution_count": 78,
   "metadata": {},
   "outputs": [
    {
     "data": {
      "text/plain": [
       "<BarContainer object of 7 artists>"
      ]
     },
     "execution_count": 78,
     "metadata": {},
     "output_type": "execute_result"
    },
    {
     "data": {
      "image/png": "[encoded data removed]",
      "text/plain": [
       "<Figure size 432x288 with 1 Axes>"
      ]
     },
     "metadata": {
      "needs_background": "light"
     },
     "output_type": "display_data"
    }
   ],
   "source": [
    "plt.bar(IntervalsPoints, RelativeFrequency, 5)"
   ]
  },
  {
   "cell_type": "markdown",
   "metadata": {},
   "source": [
    "## №7."
   ]
  },
  {
   "cell_type": "code",
   "execution_count": 81,
   "metadata": {},
   "outputs": [
    {
     "data": {
      "text/plain": [
       "[0.004320368422897067,\n",
       " 0.017281473691588268,\n",
       " 0.02376202632593387,\n",
       " 0.05832497370911041,\n",
       " 0.021601842114485334,\n",
       " 0.004320368422897067,\n",
       " 0]"
      ]
     },
     "execution_count": 81,
     "metadata": {},
     "output_type": "execute_result"
    }
   ],
   "source": [
    "relativeFrequencyDensities = RelativeFrequency\n",
    "\n",
    "for i in range(IntervalsNumber):\n",
    "    relativeFrequencyDensities[i] /= step\n",
    "    \n",
    "relativeFrequencyDensities"
   ]
  },
  {
   "cell_type": "code",
   "execution_count": 82,
   "metadata": {},
   "outputs": [
    {
     "data": {
      "text/plain": [
       "[<matplotlib.lines.Line2D at 0x20fcf612dd8>]"
      ]
     },
     "execution_count": 82,
     "metadata": {},
     "output_type": "execute_result"
    },
    {
     "data": {
      "image/png": "[encoded data removed]",
      "text/plain": [
       "<Figure size 432x288 with 1 Axes>"
      ]
     },
     "metadata": {
      "needs_background": "light"
     },
     "output_type": "display_data"
    }
   ],
   "source": [
    "coord = [] * (IntervalsNumber + 1)\n",
    "\n",
    "for i in range(IntervalsNumber + 1):\n",
    "    coord.append([IntervalsPoints[i], relativeFrequencyDensities[i]])\n",
    "\n",
    "xs, ys = zip(*coord) #create lists of x and y values\n",
    "\n",
    "plt.figure()\n",
    "plt.plot(xs,ys) "
   ]
  },
  {
   "cell_type": "markdown",
   "metadata": {},
   "source": [
    "## №8."
   ]
  },
  {
   "cell_type": "code",
   "execution_count": 83,
   "metadata": {},
   "outputs": [
    {
     "data": {
      "text/plain": [
       "[0, 2, 10, 21, 48, 58, 60]"
      ]
     },
     "execution_count": 83,
     "metadata": {},
     "output_type": "execute_result"
    }
   ],
   "source": [
    "cumulativeFrequencies = [0] * (IntervalsNumber + 1)\n",
    "\n",
    "IntervalsPoints[len(IntervalsPoints) - 1] += 0.0000000000001\n",
    "\n",
    "for j in range(0, len(sample)):\n",
    "    \n",
    "    for i in range(0, IntervalsNumber + 1):\n",
    "        \n",
    "        if sample[j] < IntervalsPoints[i]:\n",
    "            cumulativeFrequencies[i] += 1\n",
    "            j += 1\n",
    "            \n",
    "cumulativeFrequencies"
   ]
  },
  {
   "cell_type": "markdown",
   "metadata": {},
   "source": [
    "## №9."
   ]
  },
  {
   "cell_type": "code",
   "execution_count": 84,
   "metadata": {},
   "outputs": [
    {
     "data": {
      "text/plain": [
       "[0.0,\n",
       " 0.03333333333333333,\n",
       " 0.16666666666666666,\n",
       " 0.35,\n",
       " 0.8,\n",
       " 0.9666666666666667,\n",
       " 1.0]"
      ]
     },
     "execution_count": 84,
     "metadata": {},
     "output_type": "execute_result"
    }
   ],
   "source": [
    "relativeCumulativeFrequencies = cumulativeFrequencies\n",
    "\n",
    "for i in range(len(relativeCumulativeFrequencies)):\n",
    "    relativeCumulativeFrequencies[i] /= SIZE\n",
    "    \n",
    "relativeCumulativeFrequencies"
   ]
  },
  {
   "cell_type": "code",
   "execution_count": 85,
   "metadata": {},
   "outputs": [
    {
     "data": {
      "text/plain": [
       "<BarContainer object of 7 artists>"
      ]
     },
     "execution_count": 85,
     "metadata": {},
     "output_type": "execute_result"
    },
    {
     "data": {
      "image/png": "[encoded data removed]",
      "text/plain": [
       "<Figure size 432x288 with 1 Axes>"
      ]
     },
     "metadata": {
      "needs_background": "light"
     },
     "output_type": "display_data"
    }
   ],
   "source": [
    "plt.bar(IntervalsPoints, relativeCumulativeFrequencies, 10)"
   ]
  },
  {
   "cell_type": "code",
   "execution_count": null,
   "metadata": {},
   "outputs": [],
   "source": []
  }
 ],
 "metadata": {
  "kernelspec": {
   "display_name": "Python 3",
   "language": "python",
   "name": "python3"
  },
  "language_info": {
   "codemirror_mode": {
    "name": "ipython",
    "version": 3
   },
   "file_extension": ".py",
   "mimetype": "text/x-python",
   "name": "python",
   "nbconvert_exporter": "python",
   "pygments_lexer": "ipython3",
   "version": "3.7.0"
  }
 },
 "nbformat": 4,
 "nbformat_minor": 2
}
