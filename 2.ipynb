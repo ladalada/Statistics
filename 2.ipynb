{
 "cells": [
  {
   "cell_type": "markdown",
   "metadata": {},
   "source": [
    "### САМОСТОЯТЕЛЬНАЯ РАБОТА №2 (одномерный случай)\n",
    "### Интервальная оценка параметров распределения, доверительные интервалы"
   ]
  },
  {
   "cell_type": "code",
   "execution_count": 1,
   "metadata": {},
   "outputs": [],
   "source": [
    "import numpy as np\n",
    "import statistics\n",
    "import matplotlib.pyplot as plt\n",
    "import math\n",
    "from numpy import random\n",
    "from random import normalvariate\n",
    "from scipy.integrate import quad\n",
    "from scipy import stats"
   ]
  },
  {
   "cell_type": "code",
   "execution_count": 2,
   "metadata": {},
   "outputs": [
    {
     "data": {
      "text/plain": [
       "(4, 11)"
      ]
     },
     "execution_count": 2,
     "metadata": {},
     "output_type": "execute_result"
    }
   ],
   "source": [
    "a = 4\n",
    "b = 11\n",
    "a, b"
   ]
  },
  {
   "cell_type": "markdown",
   "metadata": {},
   "source": [
    "Мат. ожидание и среднеквадратичное отклонение."
   ]
  },
  {
   "cell_type": "code",
   "execution_count": 3,
   "metadata": {},
   "outputs": [
    {
     "data": {
      "text/plain": [
       "(44, 15)"
      ]
     },
     "execution_count": 3,
     "metadata": {},
     "output_type": "execute_result"
    }
   ],
   "source": [
    "mu = a * b\n",
    "sigma = a + b\n",
    "mu, sigma"
   ]
  },
  {
   "cell_type": "markdown",
   "metadata": {},
   "source": [
    "## №1."
   ]
  },
  {
   "cell_type": "markdown",
   "metadata": {},
   "source": [
    "Вероятность попадания нормально распределенной случайной величины с математическим ожиданием mu и среднеквадратическим отклонением sigma в интервал [20, 30]."
   ]
  },
  {
   "cell_type": "code",
   "execution_count": 4,
   "metadata": {},
   "outputs": [],
   "source": [
    "interval = [20, 30]"
   ]
  },
  {
   "cell_type": "code",
   "execution_count": 5,
   "metadata": {},
   "outputs": [],
   "source": [
    "def _f_(t):\n",
    "    return math.exp(- t * t / 2)\n",
    "\n",
    "def _Laplace_function_(x):\n",
    "    integral = quad(_f_, 0, x)\n",
    "    return (1 / math.sqrt(2 * math.pi)) * integral[0]\n",
    "\n",
    "def _argument_of_Laplace_function_(interval_bound, mu, sigma):\n",
    "    return (interval_bound - mu) / sigma\n",
    "\n",
    "def _probability_of_falling_into_the_interval_(interval, mu, sigma):\n",
    "    x1 = _argument_of_Laplace_function_(interval[1], mu, sigma)\n",
    "    x2 = _argument_of_Laplace_function_(interval[0], mu, sigma)\n",
    "    return _Laplace_function_(x1) - _Laplace_function_(x2)"
   ]
  },
  {
   "cell_type": "code",
   "execution_count": 10,
   "metadata": {},
   "outputs": [
    {
     "data": {
      "text/plain": [
       "0.12052465315267152"
      ]
     },
     "execution_count": 10,
     "metadata": {},
     "output_type": "execute_result"
    }
   ],
   "source": [
    "general_sample_probability = _probability_of_falling_into_the_interval_(interval, mu, sigma)\n",
    "general_sample_probability"
   ]
  },
  {
   "cell_type": "markdown",
   "metadata": {},
   "source": [
    "Функция распределения нормальной случайной величины на границе интервала."
   ]
  },
  {
   "cell_type": "code",
   "execution_count": 11,
   "metadata": {},
   "outputs": [],
   "source": [
    "def _density_(x):\n",
    "    return math.exp(- 0.5 * ((x - mu) / sigma) ** 2) / sigma / math.sqrt(2 * math.pi)\n",
    "\n",
    "def _distribution_function_(interval_bound):\n",
    "    return quad(_density_, -math.inf, interval_bound)"
   ]
  },
  {
   "cell_type": "code",
   "execution_count": 12,
   "metadata": {},
   "outputs": [
    {
     "data": {
      "text/plain": [
       "0.17532394485222846"
      ]
     },
     "execution_count": 12,
     "metadata": {},
     "output_type": "execute_result"
    }
   ],
   "source": [
    "distribution_function = _distribution_function_(interval[1])[0]\n",
    "distribution_function"
   ]
  },
  {
   "cell_type": "code",
   "execution_count": 55,
   "metadata": {},
   "outputs": [
    {
     "data": {
      "text/plain": [
       "0.05479929169955802"
      ]
     },
     "execution_count": 55,
     "metadata": {},
     "output_type": "execute_result"
    }
   ],
   "source": [
    "distribution_function_2 = _distribution_function_(interval[0])[0]\n",
    "distribution_function_2"
   ]
  },
  {
   "cell_type": "markdown",
   "metadata": {},
   "source": [
    "## №2."
   ]
  },
  {
   "cell_type": "markdown",
   "metadata": {},
   "source": [
    "Выборка из генеральной совокупности с нормальным распределением объема 100."
   ]
  },
  {
   "cell_type": "code",
   "execution_count": 78,
   "metadata": {},
   "outputs": [
    {
     "data": {
      "text/plain": [
       "array([20.16709608, 46.96672105, 49.97223902, 44.63497058, 52.61661526,\n",
       "       52.76695609, 32.54103622, 58.09170098, 24.50491216, 57.01136347,\n",
       "       31.10548308, 44.87194475, 54.30541518, 16.904374  , 63.2267466 ,\n",
       "       54.16910424, 61.20862852, 21.11394285, 46.5747834 , 47.97576956,\n",
       "       21.32254862, 45.20400461, 30.36817541, 64.20982248, 33.54112595,\n",
       "       37.39052261, 56.24077019, 44.14245181, 62.88959233, 50.2306502 ,\n",
       "       33.2395139 , 62.57042351, 23.82842974, 37.01768955, 47.64492859,\n",
       "       44.81561003, 42.66842196, 48.61154354, 19.20778436, 40.49372076,\n",
       "       48.4435058 , 39.7845145 , 40.93025025, 42.31227899, 29.46245324,\n",
       "       44.71137391, 54.77091551, 48.69249222, 55.36444108, 34.5662731 ,\n",
       "       40.35264413, 52.32254679, 16.89133686, 56.30802908, 17.28411186,\n",
       "       71.96164145, 66.13943097, 31.94726428, 49.25000633, 43.01201367,\n",
       "       63.85125494, 33.38757181, 56.50122459, 42.48943346, 37.9591388 ,\n",
       "       25.95637456, 44.18392536, 63.27034704, 52.83185893, 24.94945434,\n",
       "       65.29006421, 17.38062449, 33.5458304 , 35.2324097 , 40.1011794 ,\n",
       "       59.84103171, 78.41535762, 72.3449069 , 54.39667231, 49.51440258,\n",
       "       54.06744044, 49.24248141, 81.56571733, 26.99410988, 48.75948192,\n",
       "       36.94512288, 54.96425794, 41.14392644, 73.24378828, 46.9263097 ,\n",
       "       52.5230411 , 57.89877367, 47.17284324, 47.13839298, 73.21264633,\n",
       "       38.11522348, 47.63010909, 46.50976737, 15.16348108, 64.55626671])"
      ]
     },
     "execution_count": 78,
     "metadata": {},
     "output_type": "execute_result"
    }
   ],
   "source": [
    "main_sample_size = 100\n",
    "main_sample = random.normal(mu, sigma, size = main_sample_size)\n",
    "main_sample"
   ]
  },
  {
   "cell_type": "code",
   "execution_count": 79,
   "metadata": {},
   "outputs": [
    {
     "data": {
      "text/plain": [
       "<BarContainer object of 100 artists>"
      ]
     },
     "execution_count": 79,
     "metadata": {},
     "output_type": "execute_result"
    },
    {
     "data": {
      "image/png": "[encoded data removed]",
      "text/plain": [
       "<Figure size 432x288 with 1 Axes>"
      ]
     },
     "metadata": {
      "needs_background": "light"
     },
     "output_type": "display_data"
    }
   ],
   "source": [
    "plt.bar([i for i in range(0, len(main_sample))], main_sample, 1)"
   ]
  },
  {
   "cell_type": "markdown",
   "metadata": {},
   "source": [
    "## №3."
   ]
  },
  {
   "cell_type": "markdown",
   "metadata": {},
   "source": [
    "Первая случайная выборка объемом 15 значений из полученной выборочной совокупности. "
   ]
  },
  {
   "cell_type": "code",
   "execution_count": 15,
   "metadata": {},
   "outputs": [
    {
     "data": {
      "text/plain": [
       "array([33.03323464, 40.44781965, 27.87122782, 20.64371937, 59.85528927,\n",
       "       48.64606528, 20.5712568 , 35.13560823, 61.98935137, 59.85528927,\n",
       "       93.47336947, 20.5712568 , 25.31764258, 34.57066087, 75.80327977])"
      ]
     },
     "execution_count": 15,
     "metadata": {},
     "output_type": "execute_result"
    }
   ],
   "source": [
    "small_sample_size = 15\n",
    "sample_1 = random.choice(main_sample, size = small_sample_size)\n",
    "sample_1"
   ]
  },
  {
   "cell_type": "code",
   "execution_count": 16,
   "metadata": {},
   "outputs": [
    {
     "data": {
      "text/plain": [
       "<BarContainer object of 15 artists>"
      ]
     },
     "execution_count": 16,
     "metadata": {},
     "output_type": "execute_result"
    },
    {
     "data": {
      "image/png": "[encoded data removed]",
      "text/plain": [
       "<Figure size 432x288 with 1 Axes>"
      ]
     },
     "metadata": {
      "needs_background": "light"
     },
     "output_type": "display_data"
    }
   ],
   "source": [
    "plt.bar([i for i in range(0, len(sample_1))], sample_1, 1)"
   ]
  },
  {
   "cell_type": "markdown",
   "metadata": {},
   "source": [
    "Вторая случайная выборка объемом 15 значений из полученной выборочной совокупности. "
   ]
  },
  {
   "cell_type": "code",
   "execution_count": 17,
   "metadata": {},
   "outputs": [
    {
     "data": {
      "text/plain": [
       "array([47.40535973, 27.87122782, 15.76203363, 38.50977853, 66.76149736,\n",
       "       75.80327977, 18.53760269, 41.68532788, 46.51103337, 49.49682758,\n",
       "       27.7187112 , 19.25432959, 46.32114363, 40.79282796, 29.31255661])"
      ]
     },
     "execution_count": 17,
     "metadata": {},
     "output_type": "execute_result"
    }
   ],
   "source": [
    "sample_2 = random.choice(main_sample, size = small_sample_size)\n",
    "sample_2"
   ]
  },
  {
   "cell_type": "code",
   "execution_count": 18,
   "metadata": {},
   "outputs": [
    {
     "data": {
      "text/plain": [
       "<BarContainer object of 15 artists>"
      ]
     },
     "execution_count": 18,
     "metadata": {},
     "output_type": "execute_result"
    },
    {
     "data": {
      "image/png": "[encoded data removed]",
      "text/plain": [
       "<Figure size 432x288 with 1 Axes>"
      ]
     },
     "metadata": {
      "needs_background": "light"
     },
     "output_type": "display_data"
    }
   ],
   "source": [
    "plt.bar([i for i in range(0, len(sample_2))], sample_2, 1)"
   ]
  },
  {
   "cell_type": "markdown",
   "metadata": {},
   "source": [
    "Вероятность (относительная частота) попадания в интервал [20, 30] для основной выборки и двух полученных из нее выборок. "
   ]
  },
  {
   "cell_type": "code",
   "execution_count": 19,
   "metadata": {},
   "outputs": [],
   "source": [
    "def _relative_frequency_of_falling_into_the_interval_(sample, interval):\n",
    "    sample_frequency = 0\n",
    "    for i in range(len(sample)):\n",
    "        if sample[i] >= interval[0] and sample[i] <= interval[1]:\n",
    "            sample_frequency += 1\n",
    "    return sample_frequency / len(sample)"
   ]
  },
  {
   "cell_type": "code",
   "execution_count": 20,
   "metadata": {},
   "outputs": [
    {
     "data": {
      "text/plain": [
       "0.13"
      ]
     },
     "execution_count": 20,
     "metadata": {},
     "output_type": "execute_result"
    }
   ],
   "source": [
    "main_sample_probability = _relative_frequency_of_falling_into_the_interval_(main_sample, interval)\n",
    "main_sample_probability"
   ]
  },
  {
   "cell_type": "code",
   "execution_count": 21,
   "metadata": {},
   "outputs": [
    {
     "data": {
      "text/plain": [
       "0.3333333333333333"
      ]
     },
     "execution_count": 21,
     "metadata": {},
     "output_type": "execute_result"
    }
   ],
   "source": [
    "sample_1_probability = _relative_frequency_of_falling_into_the_interval_(sample_1, interval)\n",
    "sample_1_probability"
   ]
  },
  {
   "cell_type": "code",
   "execution_count": 22,
   "metadata": {},
   "outputs": [
    {
     "data": {
      "text/plain": [
       "0.2"
      ]
     },
     "execution_count": 22,
     "metadata": {},
     "output_type": "execute_result"
    }
   ],
   "source": [
    "sample_2_probability = _relative_frequency_of_falling_into_the_interval_(sample_2, interval)\n",
    "sample_2_probability"
   ]
  },
  {
   "cell_type": "markdown",
   "metadata": {},
   "source": [
    "Сравнение полученных 4 вероятностей (для генеральной совокупности и 3 выборок). "
   ]
  },
  {
   "cell_type": "code",
   "execution_count": 23,
   "metadata": {},
   "outputs": [
    {
     "name": "stdout",
     "output_type": "stream",
     "text": [
      "general_sample_probability =  0.12052465315267152\n",
      "main_sample_probability =  0.13\n",
      "sample_1_probability =  0.3333333333333333\n",
      "sample_2_probability =  0.2\n"
     ]
    }
   ],
   "source": [
    "print(\"general_sample_probability = \", general_sample_probability)\n",
    "print(\"main_sample_probability = \", main_sample_probability)\n",
    "print(\"sample_1_probability = \", sample_1_probability)\n",
    "print(\"sample_2_probability = \", sample_2_probability)"
   ]
  },
  {
   "cell_type": "code",
   "execution_count": 24,
   "metadata": {},
   "outputs": [
    {
     "data": {
      "text/plain": [
       "<BarContainer object of 4 artists>"
      ]
     },
     "execution_count": 24,
     "metadata": {},
     "output_type": "execute_result"
    },
    {
     "data": {
      "image/png": "[encoded data removed]",
      "text/plain": [
       "<Figure size 432x288 with 1 Axes>"
      ]
     },
     "metadata": {
      "needs_background": "light"
     },
     "output_type": "display_data"
    }
   ],
   "source": [
    "plt.bar([i for i in range(0, 4)], \n",
    "        [general_sample_probability, main_sample_probability, sample_1_probability, sample_2_probability], 1)"
   ]
  },
  {
   "cell_type": "markdown",
   "metadata": {},
   "source": [
    "## №4."
   ]
  },
  {
   "cell_type": "markdown",
   "metadata": {},
   "source": [
    "Точечные оценки параметров распределения для двух маленьких выборок."
   ]
  },
  {
   "cell_type": "code",
   "execution_count": 25,
   "metadata": {},
   "outputs": [
    {
     "data": {
      "text/plain": [
       "array([20.5712568 , 20.5712568 , 20.64371937, 25.31764258, 27.87122782,\n",
       "       33.03323464, 34.57066087, 35.13560823, 40.44781965, 48.64606528,\n",
       "       59.85528927, 59.85528927, 61.98935137, 75.80327977, 93.47336947])"
      ]
     },
     "execution_count": 25,
     "metadata": {},
     "output_type": "execute_result"
    }
   ],
   "source": [
    "sample_1.sort()\n",
    "sample_1"
   ]
  },
  {
   "cell_type": "code",
   "execution_count": 26,
   "metadata": {},
   "outputs": [
    {
     "data": {
      "text/plain": [
       "array([15.76203363, 18.53760269, 19.25432959, 27.7187112 , 27.87122782,\n",
       "       29.31255661, 38.50977853, 40.79282796, 41.68532788, 46.32114363,\n",
       "       46.51103337, 47.40535973, 49.49682758, 66.76149736, 75.80327977])"
      ]
     },
     "execution_count": 26,
     "metadata": {},
     "output_type": "execute_result"
    }
   ],
   "source": [
    "sample_2.sort()\n",
    "sample_2"
   ]
  },
  {
   "cell_type": "markdown",
   "metadata": {},
   "source": [
    "Выборочное среднее."
   ]
  },
  {
   "cell_type": "code",
   "execution_count": 27,
   "metadata": {},
   "outputs": [],
   "source": [
    "# np.mean(sample)\n",
    "\n",
    "def _sample_mean_(sample):\n",
    "    return sum(sample) / len(sample)"
   ]
  },
  {
   "cell_type": "code",
   "execution_count": 28,
   "metadata": {},
   "outputs": [
    {
     "data": {
      "text/plain": [
       "43.8523380786975"
      ]
     },
     "execution_count": 28,
     "metadata": {},
     "output_type": "execute_result"
    }
   ],
   "source": [
    "sample_1_mean = _sample_mean_(sample_1)\n",
    "sample_1_mean"
   ]
  },
  {
   "cell_type": "code",
   "execution_count": 29,
   "metadata": {},
   "outputs": [
    {
     "data": {
      "text/plain": [
       "39.449569157133084"
      ]
     },
     "execution_count": 29,
     "metadata": {},
     "output_type": "execute_result"
    }
   ],
   "source": [
    "sample_2_mean = _sample_mean_(sample_2)\n",
    "sample_2_mean"
   ]
  },
  {
   "cell_type": "markdown",
   "metadata": {},
   "source": [
    "Выборочная дисперсия (несмещенная)."
   ]
  },
  {
   "cell_type": "code",
   "execution_count": 30,
   "metadata": {},
   "outputs": [],
   "source": [
    "def _unbiased_dispersion_(sample):\n",
    "    s = 0\n",
    "    sample_mean = _sample_mean_(sample)\n",
    "    for i in sample:\n",
    "        s += (i - sample_mean) ** 2\n",
    "    return s / (len(sample) - 1)"
   ]
  },
  {
   "cell_type": "code",
   "execution_count": 31,
   "metadata": {},
   "outputs": [
    {
     "data": {
      "text/plain": [
       "489.9708820100723"
      ]
     },
     "execution_count": 31,
     "metadata": {},
     "output_type": "execute_result"
    }
   ],
   "source": [
    "sample_1_unbiased_dispersion = _unbiased_dispersion_(sample_1)\n",
    "sample_1_unbiased_dispersion"
   ]
  },
  {
   "cell_type": "code",
   "execution_count": 32,
   "metadata": {},
   "outputs": [
    {
     "data": {
      "text/plain": [
       "294.08800749260837"
      ]
     },
     "execution_count": 32,
     "metadata": {},
     "output_type": "execute_result"
    }
   ],
   "source": [
    "sample_2_unbiased_dispersion = _unbiased_dispersion_(sample_2)\n",
    "sample_2_unbiased_dispersion"
   ]
  },
  {
   "cell_type": "markdown",
   "metadata": {},
   "source": [
    "Выборочное среднее квадратическое отклонение (несмещенное). "
   ]
  },
  {
   "cell_type": "code",
   "execution_count": 33,
   "metadata": {},
   "outputs": [],
   "source": [
    "# stats.sem(sample)\n",
    "\n",
    "def _unbiased_standard_deviation_(sample):\n",
    "    unbiased_dispersion = _unbiased_dispersion_(sample)\n",
    "    return unbiased_dispersion ** (1 / 2)"
   ]
  },
  {
   "cell_type": "code",
   "execution_count": 34,
   "metadata": {},
   "outputs": [
    {
     "data": {
      "text/plain": [
       "22.13528590305696"
      ]
     },
     "execution_count": 34,
     "metadata": {},
     "output_type": "execute_result"
    }
   ],
   "source": [
    "sample_1_unbiased_standard_deviation = _unbiased_standard_deviation_(sample_1)\n",
    "sample_1_unbiased_standard_deviation"
   ]
  },
  {
   "cell_type": "code",
   "execution_count": 35,
   "metadata": {},
   "outputs": [
    {
     "data": {
      "text/plain": [
       "17.14899435805518"
      ]
     },
     "execution_count": 35,
     "metadata": {},
     "output_type": "execute_result"
    }
   ],
   "source": [
    "sample_2_unbiased_standard_deviation = _unbiased_standard_deviation_(sample_2)\n",
    "sample_2_unbiased_standard_deviation"
   ]
  },
  {
   "cell_type": "markdown",
   "metadata": {},
   "source": [
    "## №5."
   ]
  },
  {
   "cell_type": "markdown",
   "metadata": {},
   "source": [
    "Ошибки оценки параметров."
   ]
  },
  {
   "cell_type": "code",
   "execution_count": 36,
   "metadata": {},
   "outputs": [],
   "source": [
    "def _mu_estimation_error_(sample):\n",
    "    sample_mean = _sample_mean_(sample)\n",
    "    return mu - sample_mean"
   ]
  },
  {
   "cell_type": "code",
   "execution_count": 37,
   "metadata": {},
   "outputs": [
    {
     "data": {
      "text/plain": [
       "0.14766192130250033"
      ]
     },
     "execution_count": 37,
     "metadata": {},
     "output_type": "execute_result"
    }
   ],
   "source": [
    "sample_1_mu_estimation_error = _mu_estimation_error_(sample_1)\n",
    "sample_1_mu_estimation_error"
   ]
  },
  {
   "cell_type": "code",
   "execution_count": 38,
   "metadata": {},
   "outputs": [
    {
     "data": {
      "text/plain": [
       "4.550430842866916"
      ]
     },
     "execution_count": 38,
     "metadata": {},
     "output_type": "execute_result"
    }
   ],
   "source": [
    "sample_2_mu_estimation_error = _mu_estimation_error_(sample_2)\n",
    "sample_2_mu_estimation_error"
   ]
  },
  {
   "cell_type": "code",
   "execution_count": 39,
   "metadata": {},
   "outputs": [],
   "source": [
    "def _sigma_estimation_error_(sample):\n",
    "    sample_unbiased_standard_deviation = _unbiased_standard_deviation_(sample)\n",
    "    return sigma - sample_unbiased_standard_deviation"
   ]
  },
  {
   "cell_type": "code",
   "execution_count": 40,
   "metadata": {},
   "outputs": [
    {
     "data": {
      "text/plain": [
       "-7.13528590305696"
      ]
     },
     "execution_count": 40,
     "metadata": {},
     "output_type": "execute_result"
    }
   ],
   "source": [
    "sample_1_sigma_estimation_error = _sigma_estimation_error_(sample_1)\n",
    "sample_1_sigma_estimation_error"
   ]
  },
  {
   "cell_type": "code",
   "execution_count": 41,
   "metadata": {},
   "outputs": [
    {
     "data": {
      "text/plain": [
       "-2.1489943580551802"
      ]
     },
     "execution_count": 41,
     "metadata": {},
     "output_type": "execute_result"
    }
   ],
   "source": [
    "sample_2_sigma_estimation_error = _sigma_estimation_error_(sample_2)\n",
    "sample_2_sigma_estimation_error"
   ]
  },
  {
   "cell_type": "markdown",
   "metadata": {},
   "source": [
    "## №6."
   ]
  },
  {
   "cell_type": "markdown",
   "metadata": {},
   "source": [
    "t - обратное значение стандартного нормального распределения. "
   ]
  },
  {
   "cell_type": "code",
   "execution_count": 60,
   "metadata": {},
   "outputs": [
    {
     "data": {
      "text/plain": [
       "-1.959963984540054"
      ]
     },
     "execution_count": 60,
     "metadata": {},
     "output_type": "execute_result"
    }
   ],
   "source": [
    "gamma = 0.975\n",
    "t_norm = stats.norm.ppf(q = 1 - gamma)\n",
    "t_norm"
   ]
  },
  {
   "cell_type": "markdown",
   "metadata": {},
   "source": [
    "Доверительный интервал для оценки неизвестного мат. ожидания с уровнем доверия 0.95 при известном\n",
    "среднем квадратическом отклонении генеральной совокупности, которое равно sigma."
   ]
  },
  {
   "cell_type": "code",
   "execution_count": 61,
   "metadata": {},
   "outputs": [],
   "source": [
    "def _confidence_interval_with_sigma_(sample):\n",
    "    t = stats.norm.ppf(q = gamma)\n",
    "    s = sigma\n",
    "    interval = t * (s / np.sqrt(len(sample)))\n",
    "    sample_mean = _sample_mean_(sample)\n",
    "    return (sample_mean - interval, sample_mean + interval)"
   ]
  },
  {
   "cell_type": "code",
   "execution_count": 62,
   "metadata": {},
   "outputs": [
    {
     "data": {
      "text/plain": [
       "(44, (40.7995385574607, 46.67943051108086))"
      ]
     },
     "execution_count": 62,
     "metadata": {},
     "output_type": "execute_result"
    }
   ],
   "source": [
    "main_sample_confidence_interval_with_sigma = _confidence_interval_with_sigma_(main_sample)\n",
    "mu, main_sample_confidence_interval_with_sigma"
   ]
  },
  {
   "cell_type": "markdown",
   "metadata": {},
   "source": [
    "## №7."
   ]
  },
  {
   "cell_type": "markdown",
   "metadata": {},
   "source": [
    "t  находится по заданному значению уровня доверия 0,95 по распределению Стьюдента для n-1 степеней свободы."
   ]
  },
  {
   "cell_type": "code",
   "execution_count": 63,
   "metadata": {},
   "outputs": [
    {
     "data": {
      "text/plain": [
       "2.5095694114796663"
      ]
     },
     "execution_count": 63,
     "metadata": {},
     "output_type": "execute_result"
    }
   ],
   "source": [
    "t_stud = stats.t.ppf((1 + gamma) / 2., len(sample_1) - 1)\n",
    "t_stud"
   ]
  },
  {
   "cell_type": "markdown",
   "metadata": {},
   "source": [
    "Доверительный интервал для оценки мат. ожидания при неизвестном значении генерального среднего квадратического отклонения, где s - среднее квадратическое отклонение, вычисленное по несмещенной выборочной дисперсии."
   ]
  },
  {
   "cell_type": "code",
   "execution_count": 64,
   "metadata": {},
   "outputs": [],
   "source": [
    "def _confidence_interval_stud_(sample):\n",
    "    t = stats.t.ppf((1 + gamma) / 2., len(sample) - 1)\n",
    "    s = _unbiased_standard_deviation_(sample)\n",
    "    interval = t * (s / np.sqrt(len(sample)))\n",
    "    sample_mean = _sample_mean_(sample)\n",
    "    return (sample_mean - interval, sample_mean + interval)"
   ]
  },
  {
   "cell_type": "code",
   "execution_count": 65,
   "metadata": {},
   "outputs": [
    {
     "data": {
      "text/plain": [
       "(44, (39.834515465707604, 47.644453602833956))"
      ]
     },
     "execution_count": 65,
     "metadata": {},
     "output_type": "execute_result"
    }
   ],
   "source": [
    "main_sample_confidence_interval_stud = _confidence_interval_stud_(main_sample)\n",
    "mu, main_sample_confidence_interval_stud"
   ]
  },
  {
   "cell_type": "markdown",
   "metadata": {},
   "source": [
    "## №8."
   ]
  },
  {
   "cell_type": "markdown",
   "metadata": {},
   "source": [
    "t1 и t2 - находятся по заданному значению уровня доверия 0,95 по таблице распределения Пирсона хи-квадрат для  n-1 степеней свободы."
   ]
  },
  {
   "cell_type": "code",
   "execution_count": 80,
   "metadata": {},
   "outputs": [
    {
     "data": {
      "text/plain": [
       "5.628726103039734"
      ]
     },
     "execution_count": 80,
     "metadata": {},
     "output_type": "execute_result"
    }
   ],
   "source": [
    "t_pirs_1 = stats.chi2.ppf(1 - gamma, len(sample_1) - 1)\n",
    "t_pirs_1"
   ]
  },
  {
   "cell_type": "code",
   "execution_count": 81,
   "metadata": {},
   "outputs": [
    {
     "data": {
      "text/plain": [
       "26.11894804503737"
      ]
     },
     "execution_count": 81,
     "metadata": {},
     "output_type": "execute_result"
    }
   ],
   "source": [
    "t_pirs_2 = stats.chi2.ppf(gamma, len(sample_1) - 1)\n",
    "t_pirs_2"
   ]
  },
  {
   "cell_type": "markdown",
   "metadata": {},
   "source": [
    "Доверительный интервал с уровнем доверия 0,95 для дисперсии при неизвестном значении генерального среднего, где s - среднее квадратическое отклонение, вычисленное по несмещенной выборочной дисперсии."
   ]
  },
  {
   "cell_type": "code",
   "execution_count": 82,
   "metadata": {},
   "outputs": [],
   "source": [
    "def _confidence_interval_for_sigma_squared_(sample):\n",
    "    t_1 = stats.chi2.ppf(1 - gamma, len(sample) - 1)\n",
    "    t_2 = stats.chi2.ppf(gamma, len(sample) - 1)\n",
    "    s = _unbiased_standard_deviation_(sample)\n",
    "    interval = (len(sample) - 1) * s * s\n",
    "    return (interval / t_2, interval / t_1)"
   ]
  },
  {
   "cell_type": "code",
   "execution_count": 83,
   "metadata": {},
   "outputs": [
    {
     "data": {
      "text/plain": [
       "(225, (169.33630678717915, 296.4310941238944))"
      ]
     },
     "execution_count": 83,
     "metadata": {},
     "output_type": "execute_result"
    }
   ],
   "source": [
    "main_sample_confidence_interval_for_sigma_squared = _confidence_interval_for_sigma_squared_(main_sample)\n",
    "sigma * sigma, main_sample_confidence_interval_for_sigma_squared"
   ]
  },
  {
   "cell_type": "markdown",
   "metadata": {},
   "source": [
    "Доверительный интервал с уровнем доверия 0,95 для генерального среднего квадратического отклонения, где s - среднее квадратическое отклонение, вычисленное по несмещенной выборочной дисперсии."
   ]
  },
  {
   "cell_type": "code",
   "execution_count": 84,
   "metadata": {},
   "outputs": [],
   "source": [
    "def _confidence_interval_for_sigma_(sample):\n",
    "    t_1 = stats.chi2.ppf(1 - gamma, len(sample) - 1)\n",
    "    t_2 = stats.chi2.ppf(gamma, len(sample) - 1)\n",
    "    s = _unbiased_standard_deviation_(sample)\n",
    "    interval = np.sqrt(len(sample) - 1) * s \n",
    "    return (interval / np.sqrt(t_2), interval / np.sqrt(t_1))"
   ]
  },
  {
   "cell_type": "code",
   "execution_count": 85,
   "metadata": {},
   "outputs": [
    {
     "data": {
      "text/plain": [
       "(15, (13.01292844778527, 17.217174394304497))"
      ]
     },
     "execution_count": 85,
     "metadata": {},
     "output_type": "execute_result"
    }
   ],
   "source": [
    "main_sample_confidence_interval_for_sigma = _confidence_interval_for_sigma_(main_sample)\n",
    "sigma, main_sample_confidence_interval_for_sigma"
   ]
  },
  {
   "cell_type": "code",
   "execution_count": null,
   "metadata": {},
   "outputs": [],
   "source": []
  },
  {
   "cell_type": "code",
   "execution_count": null,
   "metadata": {},
   "outputs": [],
   "source": []
  }
 ],
 "metadata": {
  "kernelspec": {
   "display_name": "Python 3",
   "language": "python",
   "name": "python3"
  },
  "language_info": {
   "codemirror_mode": {
    "name": "ipython",
    "version": 3
   },
   "file_extension": ".py",
   "mimetype": "text/x-python",
   "name": "python",
   "nbconvert_exporter": "python",
   "pygments_lexer": "ipython3",
   "version": "3.7.0"
  }
 },
 "nbformat": 4,
 "nbformat_minor": 2
}
