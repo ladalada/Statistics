{
 "cells": [
  {
   "cell_type": "markdown",
   "metadata": {},
   "source": [
    "### САМОСТОЯТЕЛЬНАЯ РАБОТА №2-1 (двумерный случай)\n",
    "### Оценка корреляции"
   ]
  },
  {
   "cell_type": "code",
   "execution_count": 1,
   "metadata": {},
   "outputs": [],
   "source": [
    "import numpy as np\n",
    "import statistics\n",
    "import matplotlib.pyplot as plt\n",
    "import math\n",
    "from numpy import random, std\n",
    "from random import normalvariate\n",
    "from scipy import stats\n",
    "from scipy.stats import norm, pearsonr\n",
    "from scipy.integrate import quad\n",
    "from statistics import mean"
   ]
  },
  {
   "cell_type": "code",
   "execution_count": 2,
   "metadata": {},
   "outputs": [
    {
     "data": {
      "text/plain": [
       "(4, 11)"
      ]
     },
     "execution_count": 2,
     "metadata": {},
     "output_type": "execute_result"
    }
   ],
   "source": [
    "a = 4\n",
    "b = 11\n",
    "a, b"
   ]
  },
  {
   "cell_type": "markdown",
   "metadata": {},
   "source": [
    "## №1."
   ]
  },
  {
   "cell_type": "markdown",
   "metadata": {},
   "source": [
    "Мат. ожидание и среднеквадратичное отклонение."
   ]
  },
  {
   "cell_type": "code",
   "execution_count": 3,
   "metadata": {},
   "outputs": [
    {
     "data": {
      "text/plain": [
       "(15, 7)"
      ]
     },
     "execution_count": 3,
     "metadata": {},
     "output_type": "execute_result"
    }
   ],
   "source": [
    "mu = a + b\n",
    "sigma = abs(a - b)\n",
    "mu, sigma"
   ]
  },
  {
   "cell_type": "markdown",
   "metadata": {},
   "source": [
    "60 случайных чисел, значения которых являются значениями равномерно распределенной случайной величины на отрезке от 0 до 1. "
   ]
  },
  {
   "cell_type": "code",
   "execution_count": 4,
   "metadata": {},
   "outputs": [
    {
     "data": {
      "text/plain": [
       "array([0.95405095, 0.61017629, 0.88046081, 0.22743415, 0.55495145,\n",
       "       0.11978074, 0.76544557, 0.44192824, 0.79775454, 0.76192567,\n",
       "       0.69801484, 0.91255103, 0.27827817, 0.87887892, 0.98722009,\n",
       "       0.75715916, 0.96264718, 0.22792274, 0.53903721, 0.20470037,\n",
       "       0.59184506, 0.78716938, 0.32575481, 0.3368433 , 0.55823622,\n",
       "       0.59415091, 0.46176005, 0.02464047, 0.96366629, 0.43608181,\n",
       "       0.00257444, 0.74936466, 0.16553179, 0.12973548, 0.65343216,\n",
       "       0.95455105, 0.92632818, 0.00757875, 0.9572655 , 0.90675726,\n",
       "       0.97536642, 0.8921935 , 0.00707952, 0.97845046, 0.19216997,\n",
       "       0.82065426, 0.65225545, 0.54378642, 0.79207448, 0.5953763 ,\n",
       "       0.26847085, 0.1255282 , 0.87062657, 0.69551919, 0.47822384,\n",
       "       0.48631933, 0.47979949, 0.97969928, 0.84498683, 0.46565082])"
      ]
     },
     "execution_count": 4,
     "metadata": {},
     "output_type": "execute_result"
    }
   ],
   "source": [
    "size = 60\n",
    "sample_1 = np.random.random_sample(size = size)\n",
    "sample_1"
   ]
  },
  {
   "cell_type": "code",
   "execution_count": 5,
   "metadata": {},
   "outputs": [
    {
     "data": {
      "text/plain": [
       "<BarContainer object of 60 artists>"
      ]
     },
     "execution_count": 5,
     "metadata": {},
     "output_type": "execute_result"
    },
    {
     "data": {
      "image/png": "[encoded data removed]",
      "text/plain": [
       "<Figure size 432x288 with 1 Axes>"
      ]
     },
     "metadata": {
      "needs_background": "light"
     },
     "output_type": "display_data"
    }
   ],
   "source": [
    "plt.bar([i for i in range(0, len(sample_1))], sample_1, 1)"
   ]
  },
  {
   "cell_type": "markdown",
   "metadata": {},
   "source": [
    "Выборка, состоящая из значений нормально распределенной случайной величины, полученная с помощью функции, возвращающей обратное значение нормальной функции распределения при заданных значениях вероятности, математического ожидания и стандартного отклонения. "
   ]
  },
  {
   "cell_type": "code",
   "execution_count": 6,
   "metadata": {},
   "outputs": [
    {
     "data": {
      "text/plain": [
       "[26.798283619219227,\n",
       " 16.958449831746453,\n",
       " 23.241054630370215,\n",
       " 9.768735424297887,\n",
       " 15.967269383482229,\n",
       " 6.767414975240326,\n",
       " 20.067508340184947,\n",
       " 13.977424441804718,\n",
       " 20.835392525311754,\n",
       " 19.987574168869948,\n",
       " 18.630896492575737,\n",
       " 24.496429141219906,\n",
       " 10.884250729890587,\n",
       " 23.18580601288476,\n",
       " 30.62984680813643,\n",
       " 19.880354879605374,\n",
       " 27.475871269729154,\n",
       " 9.780063132865378,\n",
       " 15.686059135500118,\n",
       " 9.225359321454548,\n",
       " 16.626056084066995,\n",
       " 20.576466796327033,\n",
       " 11.838337990880197,\n",
       " 12.05234346141923,\n",
       " 16.025492295773827,\n",
       " 16.667650868019045,\n",
       " 14.327995827969575,\n",
       " 1.2369290250671963,\n",
       " 27.56439705126715,\n",
       " 13.873624107320786,\n",
       " -4.582985536362365,\n",
       " 19.707442372069725,\n",
       " 8.196183227838358,\n",
       " 7.106503056106641,\n",
       " 17.762223162365686,\n",
       " 26.834761501857027,\n",
       " 25.142848260530634,\n",
       " -2.000158019240043,\n",
       " 27.03859230664655,\n",
       " 24.24733338048896,\n",
       " 28.763906558619375,\n",
       " 23.667945800015247,\n",
       " -2.172422323606142,\n",
       " 29.15924018943287,\n",
       " 8.910506342839035,\n",
       " 21.425029291447746,\n",
       " 17.73991825743645,\n",
       " 15.769843087008491,\n",
       " 20.69548223765597,\n",
       " 16.689779303414607,\n",
       " 10.677889787303203,\n",
       " 6.965489143897589,\n",
       " 22.905505674885635,\n",
       " 18.580893676054544,\n",
       " 14.617716841476353,\n",
       " 14.759906497125932,\n",
       " 14.645402199590421,\n",
       " 29.333041203981807,\n",
       " 22.10616733499396,\n",
       " 14.396549058482748]"
      ]
     },
     "execution_count": 6,
     "metadata": {},
     "output_type": "execute_result"
    }
   ],
   "source": [
    "sample_2 = [norm.ppf(i, loc = mu, scale = sigma) for i in sample_1]\n",
    "sample_2"
   ]
  },
  {
   "cell_type": "code",
   "execution_count": 10,
   "metadata": {},
   "outputs": [
    {
     "data": {
      "text/plain": [
       "<BarContainer object of 60 artists>"
      ]
     },
     "execution_count": 10,
     "metadata": {},
     "output_type": "execute_result"
    },
    {
     "data": {
      "image/png": "[encoded data removed]",
      "text/plain": [
       "<Figure size 432x288 with 1 Axes>"
      ]
     },
     "metadata": {
      "needs_background": "light"
     },
     "output_type": "display_data"
    }
   ],
   "source": [
    "plt.bar([i for i in range(0, len(sample_1))], sample_1, 1)"
   ]
  },
  {
   "cell_type": "code",
   "execution_count": 7,
   "metadata": {},
   "outputs": [
    {
     "data": {
      "text/plain": [
       "<BarContainer object of 60 artists>"
      ]
     },
     "execution_count": 7,
     "metadata": {},
     "output_type": "execute_result"
    },
    {
     "data": {
      "image/png": "[encoded data removed]",
      "text/plain": [
       "<Figure size 432x288 with 1 Axes>"
      ]
     },
     "metadata": {
      "needs_background": "light"
     },
     "output_type": "display_data"
    }
   ],
   "source": [
    "plt.bar([i for i in range(0, len(sample_2))], sample_2, 1)"
   ]
  },
  {
   "cell_type": "markdown",
   "metadata": {},
   "source": [
    "## №2."
   ]
  },
  {
   "cell_type": "markdown",
   "metadata": {},
   "source": [
    "Еще одна выборка из 60 нормально распределенных значений с мат. ожиданием mu и среднеквадратичным отклонением sigma."
   ]
  },
  {
   "cell_type": "code",
   "execution_count": 11,
   "metadata": {},
   "outputs": [
    {
     "data": {
      "text/plain": [
       "array([26.86151527, 18.13322058,  6.0540483 , 18.3266954 ,  9.75769295,\n",
       "       23.73746066,  5.39651832, 18.33441568,  7.90447203, 12.72679027,\n",
       "        8.46270833, 16.18277289, 22.06291886, 33.45918791, 16.92199346,\n",
       "        6.61727484, 20.20298632,  3.65682715, 14.99843126,  9.7400678 ,\n",
       "       19.66677881, 16.50002871,  8.15843469, 10.50576576, 15.72838275,\n",
       "       28.08881611,  6.07536332, 15.44511016, 20.88540931, 16.19774598,\n",
       "       20.12299068,  9.75630511, 10.40729392, 14.25759534, 18.35494436,\n",
       "        4.17347862, 18.98990575, 13.58821893, 24.74018644, 12.6162408 ,\n",
       "        2.23833154, 17.87722641, 17.7845711 , 14.32734306, 14.07863056,\n",
       "        6.39524428, 20.16110334, 21.33064559, 18.53046245, 28.45497595,\n",
       "       -2.10331847,  4.11473458, 23.71246645, 16.81915569,  1.05632034,\n",
       "        6.62668788, 12.06531432, 13.09766614, 19.63231338, 19.87871269])"
      ]
     },
     "execution_count": 11,
     "metadata": {},
     "output_type": "execute_result"
    }
   ],
   "source": [
    "sample_3 = random.normal(mu, sigma, size = size)\n",
    "sample_3"
   ]
  },
  {
   "cell_type": "code",
   "execution_count": 12,
   "metadata": {},
   "outputs": [
    {
     "data": {
      "text/plain": [
       "<BarContainer object of 60 artists>"
      ]
     },
     "execution_count": 12,
     "metadata": {},
     "output_type": "execute_result"
    },
    {
     "data": {
      "image/png": "[encoded data removed]",
      "text/plain": [
       "<Figure size 432x288 with 1 Axes>"
      ]
     },
     "metadata": {
      "needs_background": "light"
     },
     "output_type": "display_data"
    }
   ],
   "source": [
    "plt.bar([i for i in range(0, len(sample_3))], sample_3, 1)"
   ]
  },
  {
   "cell_type": "markdown",
   "metadata": {},
   "source": [
    "## №3."
   ]
  },
  {
   "cell_type": "markdown",
   "metadata": {},
   "source": [
    "Выборочные коэффициенты корреляции (Пирсона) для всех трех пар из полученных выборок: (1, 2), (1, 3), (2, 3). "
   ]
  },
  {
   "cell_type": "code",
   "execution_count": 13,
   "metadata": {},
   "outputs": [
    {
     "data": {
      "text/plain": [
       "0.9755683296631769"
      ]
     },
     "execution_count": 13,
     "metadata": {},
     "output_type": "execute_result"
    }
   ],
   "source": [
    "pearson_1_2 = pearsonr(sample_1, sample_2)[0]\n",
    "pearson_1_2"
   ]
  },
  {
   "cell_type": "code",
   "execution_count": 14,
   "metadata": {},
   "outputs": [
    {
     "data": {
      "text/plain": [
       "0.13291366842110058"
      ]
     },
     "execution_count": 14,
     "metadata": {},
     "output_type": "execute_result"
    }
   ],
   "source": [
    "pearson_1_3 = pearsonr(sample_1, sample_3)[0]\n",
    "pearson_1_3"
   ]
  },
  {
   "cell_type": "code",
   "execution_count": 15,
   "metadata": {},
   "outputs": [
    {
     "data": {
      "text/plain": [
       "0.08978497831568982"
      ]
     },
     "execution_count": 15,
     "metadata": {},
     "output_type": "execute_result"
    }
   ],
   "source": [
    "pearson_2_3 = pearsonr(sample_2, sample_3)[0]\n",
    "pearson_2_3"
   ]
  },
  {
   "cell_type": "markdown",
   "metadata": {},
   "source": [
    "## №4."
   ]
  },
  {
   "cell_type": "markdown",
   "metadata": {},
   "source": [
    "Несмещённые оценки ковариации для трёх пар выборок (1, 2), (1, 3), (2, 3)."
   ]
  },
  {
   "cell_type": "code",
   "execution_count": 16,
   "metadata": {},
   "outputs": [],
   "source": [
    "def _unbiased_covariance_score_(sample_x, sample_y):\n",
    "    n = len(sample_x)\n",
    "    x_mean = mean(sample_x)\n",
    "    y_mean = mean(sample_y)\n",
    "    summa = 0\n",
    "    for i in range(n):\n",
    "        summa += (sample_x[i] - x_mean) * (sample_y[i] - y_mean)\n",
    "    return summa / (n - 1)  "
   ]
  },
  {
   "cell_type": "code",
   "execution_count": 17,
   "metadata": {},
   "outputs": [
    {
     "data": {
      "text/plain": [
       "2.40660265738829"
      ]
     },
     "execution_count": 17,
     "metadata": {},
     "output_type": "execute_result"
    }
   ],
   "source": [
    "_unbiased_covariance_score_(sample_1, sample_2)"
   ]
  },
  {
   "cell_type": "code",
   "execution_count": 18,
   "metadata": {},
   "outputs": [
    {
     "data": {
      "text/plain": [
       "0.300358860104176"
      ]
     },
     "execution_count": 18,
     "metadata": {},
     "output_type": "execute_result"
    }
   ],
   "source": [
    "_unbiased_covariance_score_(sample_1, sample_3)"
   ]
  },
  {
   "cell_type": "code",
   "execution_count": 19,
   "metadata": {},
   "outputs": [
    {
     "data": {
      "text/plain": [
       "5.344991439357892"
      ]
     },
     "execution_count": 19,
     "metadata": {},
     "output_type": "execute_result"
    }
   ],
   "source": [
    "_unbiased_covariance_score_(sample_2, sample_3)"
   ]
  },
  {
   "cell_type": "markdown",
   "metadata": {},
   "source": [
    "Коэффициент парной корреляции."
   ]
  },
  {
   "cell_type": "code",
   "execution_count": 20,
   "metadata": {},
   "outputs": [],
   "source": [
    "def _pair_correlation_coefficient_(sample_x, sample_y):\n",
    "    x_mean = mean(sample_x)\n",
    "    y_mean = mean(sample_y)\n",
    "    numerator = 0\n",
    "    for i in range(len(sample_x)):\n",
    "        numerator += (sample_x[i] - x_mean) * (sample_y[i] - y_mean)\n",
    "    denominator_x = 0\n",
    "    denominator_y = 0\n",
    "    denominator = 1\n",
    "    for i in range(len(sample_x)):\n",
    "        denominator_x += ((sample_x[i] - x_mean) ** 2)\n",
    "        denominator_y += ((sample_y[i] - y_mean) ** 2)\n",
    "        denominator = (denominator_x * denominator_y) ** (0.5)\n",
    "    return numerator / denominator"
   ]
  },
  {
   "cell_type": "code",
   "execution_count": 21,
   "metadata": {},
   "outputs": [
    {
     "data": {
      "text/plain": [
       "0.9755683296631764"
      ]
     },
     "execution_count": 21,
     "metadata": {},
     "output_type": "execute_result"
    }
   ],
   "source": [
    "pair_correl_coeff_1_2 = _pair_correlation_coefficient_(sample_1, sample_2)\n",
    "pair_correl_coeff_1_2"
   ]
  },
  {
   "cell_type": "code",
   "execution_count": 22,
   "metadata": {},
   "outputs": [
    {
     "data": {
      "text/plain": [
       "0.13291366842110058"
      ]
     },
     "execution_count": 22,
     "metadata": {},
     "output_type": "execute_result"
    }
   ],
   "source": [
    "pair_correl_coeff_1_3 = _pair_correlation_coefficient_(sample_1, sample_3)\n",
    "pair_correl_coeff_1_3"
   ]
  },
  {
   "cell_type": "code",
   "execution_count": 23,
   "metadata": {},
   "outputs": [
    {
     "data": {
      "text/plain": [
       "0.08978497831568981"
      ]
     },
     "execution_count": 23,
     "metadata": {},
     "output_type": "execute_result"
    }
   ],
   "source": [
    "pair_correl_coeff_2_3 = _pair_correlation_coefficient_(sample_2, sample_3)\n",
    "pair_correl_coeff_2_3"
   ]
  },
  {
   "cell_type": "markdown",
   "metadata": {},
   "source": [
    "## №5."
   ]
  },
  {
   "cell_type": "markdown",
   "metadata": {},
   "source": [
    "Постройте корреляционную матрицу размерности 3 на 3."
   ]
  },
  {
   "cell_type": "code",
   "execution_count": 24,
   "metadata": {},
   "outputs": [],
   "source": [
    "def _neg_or_pos_(number):\n",
    "    if number < 0:\n",
    "        return '{0:f}'.format(number)\n",
    "    else:\n",
    "        return \" \" + '{0:f}'.format(number)\n",
    "\n",
    "def _first_row_(name):\n",
    "    print(name.center(9), \"sample_1\".center(10), \"sample_2\".center(10), \"sample_3\".center(10))"
   ]
  },
  {
   "cell_type": "code",
   "execution_count": 25,
   "metadata": {},
   "outputs": [],
   "source": [
    "def _pearson_correl_matrix_row_(count, samples):\n",
    "    print(\"sample_\", end = '')\n",
    "    print(count, \" \", end = '')\n",
    "    for i in range(3):\n",
    "        print(_neg_or_pos_(pearsonr(samples[count], samples[i])[0]), \" \", end = '')\n",
    "    print()\n",
    "\n",
    "def _pearson_correl_matrix_(samples):\n",
    "    _first_row_(\"PEARSON\")\n",
    "    for i in range(3):\n",
    "        _pearson_correl_matrix_row_(i, samples)"
   ]
  },
  {
   "cell_type": "code",
   "execution_count": 26,
   "metadata": {},
   "outputs": [
    {
     "name": "stdout",
     "output_type": "stream",
     "text": [
      " PEARSON   sample_1   sample_2   sample_3 \n",
      "sample_0   1.000000   0.975568   0.132914  \n",
      "sample_1   0.975568   1.000000   0.089785  \n",
      "sample_2   0.132914   0.089785   1.000000  \n"
     ]
    }
   ],
   "source": [
    "_pearson_correl_matrix_([sample_1, sample_2, sample_3])"
   ]
  },
  {
   "cell_type": "code",
   "execution_count": 27,
   "metadata": {},
   "outputs": [],
   "source": [
    "def _pair_correl_matrix_row_(count, samples):\n",
    "    print(\"sample_\", end = '')\n",
    "    print(count, \" \", end = '')\n",
    "    for i in range(3):\n",
    "        print(_neg_or_pos_(_pair_correlation_coefficient_(samples[count], samples[i])), \" \", end = '')\n",
    "    print()\n",
    "\n",
    "def _pair_correl_matrix_(samples):\n",
    "    _first_row_(\"PAIR_CORR\")\n",
    "    for i in range(3):\n",
    "        _pair_correl_matrix_row_(i, samples)"
   ]
  },
  {
   "cell_type": "code",
   "execution_count": 28,
   "metadata": {},
   "outputs": [
    {
     "name": "stdout",
     "output_type": "stream",
     "text": [
      "PAIR_CORR  sample_1   sample_2   sample_3 \n",
      "sample_0   1.000000   0.975568   0.132914  \n",
      "sample_1   0.975568   1.000000   0.089785  \n",
      "sample_2   0.132914   0.089785   1.000000  \n"
     ]
    }
   ],
   "source": [
    "_pair_correl_matrix_([sample_1, sample_2, sample_3])"
   ]
  },
  {
   "cell_type": "code",
   "execution_count": null,
   "metadata": {},
   "outputs": [],
   "source": []
  },
  {
   "cell_type": "code",
   "execution_count": null,
   "metadata": {},
   "outputs": [],
   "source": []
  }
 ],
 "metadata": {
  "kernelspec": {
   "display_name": "Python 3",
   "language": "python",
   "name": "python3"
  },
  "language_info": {
   "codemirror_mode": {
    "name": "ipython",
    "version": 3
   },
   "file_extension": ".py",
   "mimetype": "text/x-python",
   "name": "python",
   "nbconvert_exporter": "python",
   "pygments_lexer": "ipython3",
   "version": "3.7.0"
  }
 },
 "nbformat": 4,
 "nbformat_minor": 2
}
